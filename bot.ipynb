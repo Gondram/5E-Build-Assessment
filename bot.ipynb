{
 "cells": [
  {
   "cell_type": "markdown",
   "id": "f145522f-13b1-43fa-8aae-3236eac25b6b",
   "metadata": {},
   "source": [
    "# Build Evaluation Bot"
   ]
  },
  {
   "cell_type": "markdown",
   "id": "87971d65-d90f-4553-9169-a23117560b0b",
   "metadata": {},
   "source": [
    "Process - the inputs will define available abilities\n",
    "Abilities will be tested"
   ]
  },
  {
   "cell_type": "code",
   "execution_count": 1,
   "id": "c16dea13-5640-43e3-a46b-31a8f9712b27",
   "metadata": {},
   "outputs": [],
   "source": [
    "# Imports\n",
    "import numpy as np\n",
    "import matplotlib.pyplot as plt\n",
    "import pandas as pd\n",
    "import seaborn as sns\n",
    "import os\n",
    "\n",
    "import custom_functions as fn\n",
    "from custom_functions import Process"
   ]
  },
  {
   "cell_type": "code",
   "execution_count": 2,
   "id": "2eb2dc12-1bef-40bd-a8eb-0818ff23cdda",
   "metadata": {},
   "outputs": [],
   "source": [
    "# constants for the dice \n",
    "TWENTY = 10.5\n",
    "TWELVE = 6.5\n",
    "TEN = 5.5\n",
    "EIGHT = 4.5\n",
    "SIX = 3.5\n",
    "FOUR = 2.5"
   ]
  },
  {
   "cell_type": "code",
   "execution_count": 3,
   "id": "37ac6525-e606-450c-b83a-993155ef50dd",
   "metadata": {},
   "outputs": [
    {
     "data": {
      "text/html": [
       "<div>\n",
       "<style scoped>\n",
       "    .dataframe tbody tr th:only-of-type {\n",
       "        vertical-align: middle;\n",
       "    }\n",
       "\n",
       "    .dataframe tbody tr th {\n",
       "        vertical-align: top;\n",
       "    }\n",
       "\n",
       "    .dataframe thead th {\n",
       "        text-align: right;\n",
       "    }\n",
       "</style>\n",
       "<table border=\"1\" class=\"dataframe\">\n",
       "  <thead>\n",
       "    <tr style=\"text-align: right;\">\n",
       "      <th></th>\n",
       "      <th>CR</th>\n",
       "      <th>PROF</th>\n",
       "      <th>AC</th>\n",
       "      <th>MIN_HP</th>\n",
       "      <th>MAX_HP</th>\n",
       "      <th>AB</th>\n",
       "      <th>MIN_DPR</th>\n",
       "      <th>MAX_DPR</th>\n",
       "      <th>SAVE</th>\n",
       "    </tr>\n",
       "  </thead>\n",
       "  <tbody>\n",
       "    <tr>\n",
       "      <th>0</th>\n",
       "      <td>0.000</td>\n",
       "      <td>2</td>\n",
       "      <td>13</td>\n",
       "      <td>1</td>\n",
       "      <td>6</td>\n",
       "      <td>3</td>\n",
       "      <td>0</td>\n",
       "      <td>1</td>\n",
       "      <td>13</td>\n",
       "    </tr>\n",
       "    <tr>\n",
       "      <th>1</th>\n",
       "      <td>0.125</td>\n",
       "      <td>2</td>\n",
       "      <td>13</td>\n",
       "      <td>7</td>\n",
       "      <td>35</td>\n",
       "      <td>3</td>\n",
       "      <td>2</td>\n",
       "      <td>3</td>\n",
       "      <td>13</td>\n",
       "    </tr>\n",
       "    <tr>\n",
       "      <th>2</th>\n",
       "      <td>0.250</td>\n",
       "      <td>2</td>\n",
       "      <td>13</td>\n",
       "      <td>36</td>\n",
       "      <td>49</td>\n",
       "      <td>3</td>\n",
       "      <td>4</td>\n",
       "      <td>5</td>\n",
       "      <td>13</td>\n",
       "    </tr>\n",
       "    <tr>\n",
       "      <th>3</th>\n",
       "      <td>1.000</td>\n",
       "      <td>2</td>\n",
       "      <td>13</td>\n",
       "      <td>50</td>\n",
       "      <td>70</td>\n",
       "      <td>3</td>\n",
       "      <td>6</td>\n",
       "      <td>8</td>\n",
       "      <td>13</td>\n",
       "    </tr>\n",
       "    <tr>\n",
       "      <th>4</th>\n",
       "      <td>1.000</td>\n",
       "      <td>2</td>\n",
       "      <td>13</td>\n",
       "      <td>71</td>\n",
       "      <td>85</td>\n",
       "      <td>3</td>\n",
       "      <td>9</td>\n",
       "      <td>14</td>\n",
       "      <td>13</td>\n",
       "    </tr>\n",
       "  </tbody>\n",
       "</table>\n",
       "</div>"
      ],
      "text/plain": [
       "      CR  PROF  AC  MIN_HP  MAX_HP  AB  MIN_DPR  MAX_DPR  SAVE\n",
       "0  0.000     2  13       1       6   3        0        1    13\n",
       "1  0.125     2  13       7      35   3        2        3    13\n",
       "2  0.250     2  13      36      49   3        4        5    13\n",
       "3  1.000     2  13      50      70   3        6        8    13\n",
       "4  1.000     2  13      71      85   3        9       14    13"
      ]
     },
     "execution_count": 3,
     "metadata": {},
     "output_type": "execute_result"
    }
   ],
   "source": [
    "# loading the data\n",
    "df = pd.read_csv('data/cr_chart.csv')\n",
    "# preview data\n",
    "df.head()"
   ]
  },
  {
   "cell_type": "code",
   "execution_count": 4,
   "id": "a147de5d-5d61-4dc5-984e-02cd4534ef46",
   "metadata": {},
   "outputs": [
    {
     "data": {
      "text/html": [
       "<div>\n",
       "<style scoped>\n",
       "    .dataframe tbody tr th:only-of-type {\n",
       "        vertical-align: middle;\n",
       "    }\n",
       "\n",
       "    .dataframe tbody tr th {\n",
       "        vertical-align: top;\n",
       "    }\n",
       "\n",
       "    .dataframe thead th {\n",
       "        text-align: right;\n",
       "    }\n",
       "</style>\n",
       "<table border=\"1\" class=\"dataframe\">\n",
       "  <thead>\n",
       "    <tr style=\"text-align: right;\">\n",
       "      <th></th>\n",
       "      <th>ability_id</th>\n",
       "      <th>action_id</th>\n",
       "      <th>result</th>\n",
       "    </tr>\n",
       "  </thead>\n",
       "  <tbody>\n",
       "    <tr>\n",
       "      <th>0</th>\n",
       "      <td>eldritch_blast</td>\n",
       "      <td>attack_roll</td>\n",
       "      <td>6.0</td>\n",
       "    </tr>\n",
       "    <tr>\n",
       "      <th>1</th>\n",
       "      <td>eldritch_blast</td>\n",
       "      <td>multi_target</td>\n",
       "      <td>1.0</td>\n",
       "    </tr>\n",
       "    <tr>\n",
       "      <th>2</th>\n",
       "      <td>eldritch_blast</td>\n",
       "      <td>dice_damage</td>\n",
       "      <td>5.5</td>\n",
       "    </tr>\n",
       "    <tr>\n",
       "      <th>3</th>\n",
       "      <td>eldritch_blast</td>\n",
       "      <td>damage_type</td>\n",
       "      <td>4.0</td>\n",
       "    </tr>\n",
       "    <tr>\n",
       "      <th>4</th>\n",
       "      <td>eldritch_blast</td>\n",
       "      <td>mt_cantrip_upcast</td>\n",
       "      <td>1.0</td>\n",
       "    </tr>\n",
       "  </tbody>\n",
       "</table>\n",
       "</div>"
      ],
      "text/plain": [
       "       ability_id          action_id  result\n",
       "0  eldritch_blast        attack_roll     6.0\n",
       "1  eldritch_blast       multi_target     1.0\n",
       "2  eldritch_blast        dice_damage     5.5\n",
       "3  eldritch_blast        damage_type     4.0\n",
       "4  eldritch_blast  mt_cantrip_upcast     1.0"
      ]
     },
     "execution_count": 4,
     "metadata": {},
     "output_type": "execute_result"
    }
   ],
   "source": [
    "ability_df = pd.read_csv('data/test.csv')\n",
    "# preview data\n",
    "ability_df.head()"
   ]
  },
  {
   "cell_type": "code",
   "execution_count": 5,
   "id": "127eae4d-0f83-478c-b584-368d7a2de66b",
   "metadata": {},
   "outputs": [
    {
     "name": "stdout",
     "output_type": "stream",
     "text": [
      "<class 'pandas.core.frame.DataFrame'>\n",
      "RangeIndex: 25 entries, 0 to 24\n",
      "Data columns (total 3 columns):\n",
      " #   Column      Non-Null Count  Dtype  \n",
      "---  ------      --------------  -----  \n",
      " 0   ability_id  25 non-null     object \n",
      " 1   action_id   25 non-null     object \n",
      " 2   result      25 non-null     float64\n",
      "dtypes: float64(1), object(2)\n",
      "memory usage: 728.0+ bytes\n"
     ]
    }
   ],
   "source": [
    "ability_df.info()"
   ]
  },
  {
   "cell_type": "code",
   "execution_count": 6,
   "id": "2e9e182d-45f5-40c6-b287-f801598ed12e",
   "metadata": {},
   "outputs": [
    {
     "data": {
      "text/html": [
       "<div>\n",
       "<style scoped>\n",
       "    .dataframe tbody tr th:only-of-type {\n",
       "        vertical-align: middle;\n",
       "    }\n",
       "\n",
       "    .dataframe tbody tr th {\n",
       "        vertical-align: top;\n",
       "    }\n",
       "\n",
       "    .dataframe thead th {\n",
       "        text-align: right;\n",
       "    }\n",
       "</style>\n",
       "<table border=\"1\" class=\"dataframe\">\n",
       "  <thead>\n",
       "    <tr style=\"text-align: right;\">\n",
       "      <th></th>\n",
       "      <th>round</th>\n",
       "      <th>action</th>\n",
       "      <th>bonus_action</th>\n",
       "      <th>movement</th>\n",
       "      <th>damage</th>\n",
       "    </tr>\n",
       "  </thead>\n",
       "  <tbody>\n",
       "  </tbody>\n",
       "</table>\n",
       "</div>"
      ],
      "text/plain": [
       "Empty DataFrame\n",
       "Columns: [round, action, bonus_action, movement, damage]\n",
       "Index: []"
      ]
     },
     "execution_count": 6,
     "metadata": {},
     "output_type": "execute_result"
    }
   ],
   "source": [
    "turn_df = pd.DataFrame(columns=['round', 'action', 'bonus_action','movement','damage'])\n",
    "turn_df.head()"
   ]
  },
  {
   "cell_type": "code",
   "execution_count": 7,
   "id": "be7d045c-1a72-4789-afb8-8a58a1788f31",
   "metadata": {},
   "outputs": [
    {
     "data": {
      "text/plain": [
       "['eldritch_blast', 'ray_of_frost']"
      ]
     },
     "execution_count": 7,
     "metadata": {},
     "output_type": "execute_result"
    }
   ],
   "source": [
    "abilities = ['eldritch_blast','ray_of_frost']\n",
    "abilities"
   ]
  },
  {
   "cell_type": "code",
   "execution_count": 19,
   "id": "d4161264-2f50-4888-b046-7f9b5260a5d4",
   "metadata": {},
   "outputs": [
    {
     "data": {
      "text/html": [
       "<div>\n",
       "<style scoped>\n",
       "    .dataframe tbody tr th:only-of-type {\n",
       "        vertical-align: middle;\n",
       "    }\n",
       "\n",
       "    .dataframe tbody tr th {\n",
       "        vertical-align: top;\n",
       "    }\n",
       "\n",
       "    .dataframe thead th {\n",
       "        text-align: right;\n",
       "    }\n",
       "</style>\n",
       "<table border=\"1\" class=\"dataframe\">\n",
       "  <thead>\n",
       "    <tr style=\"text-align: right;\">\n",
       "      <th></th>\n",
       "      <th>ability_id</th>\n",
       "      <th>action_id</th>\n",
       "      <th>result</th>\n",
       "    </tr>\n",
       "  </thead>\n",
       "  <tbody>\n",
       "    <tr>\n",
       "      <th>0</th>\n",
       "      <td>eldritch_blast</td>\n",
       "      <td>attack_roll</td>\n",
       "      <td>6.0</td>\n",
       "    </tr>\n",
       "    <tr>\n",
       "      <th>1</th>\n",
       "      <td>eldritch_blast</td>\n",
       "      <td>multi_target</td>\n",
       "      <td>1.0</td>\n",
       "    </tr>\n",
       "    <tr>\n",
       "      <th>2</th>\n",
       "      <td>eldritch_blast</td>\n",
       "      <td>dice_damage</td>\n",
       "      <td>5.5</td>\n",
       "    </tr>\n",
       "    <tr>\n",
       "      <th>3</th>\n",
       "      <td>eldritch_blast</td>\n",
       "      <td>damage_type</td>\n",
       "      <td>4.0</td>\n",
       "    </tr>\n",
       "    <tr>\n",
       "      <th>4</th>\n",
       "      <td>eldritch_blast</td>\n",
       "      <td>mt_cantrip_upcast</td>\n",
       "      <td>1.0</td>\n",
       "    </tr>\n",
       "    <tr>\n",
       "      <th>5</th>\n",
       "      <td>eldritch_blast</td>\n",
       "      <td>school</td>\n",
       "      <td>1.0</td>\n",
       "    </tr>\n",
       "    <tr>\n",
       "      <th>6</th>\n",
       "      <td>eldritch_blast</td>\n",
       "      <td>spell</td>\n",
       "      <td>0.0</td>\n",
       "    </tr>\n",
       "    <tr>\n",
       "      <th>7</th>\n",
       "      <td>eldritch_blast</td>\n",
       "      <td>action</td>\n",
       "      <td>0.0</td>\n",
       "    </tr>\n",
       "    <tr>\n",
       "      <th>8</th>\n",
       "      <td>ray_of_frost</td>\n",
       "      <td>attack_roll</td>\n",
       "      <td>6.0</td>\n",
       "    </tr>\n",
       "    <tr>\n",
       "      <th>9</th>\n",
       "      <td>ray_of_frost</td>\n",
       "      <td>spell</td>\n",
       "      <td>0.0</td>\n",
       "    </tr>\n",
       "    <tr>\n",
       "      <th>10</th>\n",
       "      <td>ray_of_frost</td>\n",
       "      <td>action</td>\n",
       "      <td>0.0</td>\n",
       "    </tr>\n",
       "    <tr>\n",
       "      <th>11</th>\n",
       "      <td>ray_of_frost</td>\n",
       "      <td>dice_damage</td>\n",
       "      <td>4.5</td>\n",
       "    </tr>\n",
       "    <tr>\n",
       "      <th>12</th>\n",
       "      <td>ray_of_frost</td>\n",
       "      <td>damage_type</td>\n",
       "      <td>6.0</td>\n",
       "    </tr>\n",
       "    <tr>\n",
       "      <th>13</th>\n",
       "      <td>ray_of_frost</td>\n",
       "      <td>school</td>\n",
       "      <td>1.0</td>\n",
       "    </tr>\n",
       "    <tr>\n",
       "      <th>14</th>\n",
       "      <td>ray_of_frost</td>\n",
       "      <td>spell</td>\n",
       "      <td>0.0</td>\n",
       "    </tr>\n",
       "    <tr>\n",
       "      <th>15</th>\n",
       "      <td>ray_of_frost</td>\n",
       "      <td>action</td>\n",
       "      <td>0.0</td>\n",
       "    </tr>\n",
       "    <tr>\n",
       "      <th>16</th>\n",
       "      <td>ray_of_frost</td>\n",
       "      <td>dice_cantrip_upcast</td>\n",
       "      <td>4.5</td>\n",
       "    </tr>\n",
       "  </tbody>\n",
       "</table>\n",
       "</div>"
      ],
      "text/plain": [
       "        ability_id            action_id  result\n",
       "0   eldritch_blast          attack_roll     6.0\n",
       "1   eldritch_blast         multi_target     1.0\n",
       "2   eldritch_blast          dice_damage     5.5\n",
       "3   eldritch_blast          damage_type     4.0\n",
       "4   eldritch_blast    mt_cantrip_upcast     1.0\n",
       "5   eldritch_blast               school     1.0\n",
       "6   eldritch_blast                spell     0.0\n",
       "7   eldritch_blast               action     0.0\n",
       "8     ray_of_frost          attack_roll     6.0\n",
       "9     ray_of_frost                spell     0.0\n",
       "10    ray_of_frost               action     0.0\n",
       "11    ray_of_frost          dice_damage     4.5\n",
       "12    ray_of_frost          damage_type     6.0\n",
       "13    ray_of_frost               school     1.0\n",
       "14    ray_of_frost                spell     0.0\n",
       "15    ray_of_frost               action     0.0\n",
       "16    ray_of_frost  dice_cantrip_upcast     4.5"
      ]
     },
     "execution_count": 19,
     "metadata": {},
     "output_type": "execute_result"
    }
   ],
   "source": [
    "available_abilities = ability_df[ability_df['ability_id'].isin(abilities)].reset_index(drop=True)\n",
    "available_abilities"
   ]
  },
  {
   "cell_type": "code",
   "execution_count": 20,
   "id": "7c5a19b3-3842-48bb-bff5-8d1e6450ca30",
   "metadata": {},
   "outputs": [
    {
     "data": {
      "text/plain": [
       "array(['attack_roll', 'multi_target', 'dice_damage', 'damage_type',\n",
       "       'mt_cantrip_upcast', 'school', 'spell', 'action',\n",
       "       'dice_cantrip_upcast'], dtype=object)"
      ]
     },
     "execution_count": 20,
     "metadata": {},
     "output_type": "execute_result"
    }
   ],
   "source": [
    "available_abilities['action_id'].unique()"
   ]
  },
  {
   "cell_type": "code",
   "execution_count": 21,
   "id": "dbec7992-a98a-42fe-b4ac-eff0bc18fd87",
   "metadata": {},
   "outputs": [
    {
     "name": "stdout",
     "output_type": "stream",
     "text": [
      "arg = ball\n"
     ]
    }
   ],
   "source": [
    "proc = 'spell_attack' \n",
    "# Sample, all on one line\n",
    "getattr(globals()['Process'](), proc)('ball')"
   ]
  },
  {
   "cell_type": "code",
   "execution_count": 22,
   "id": "d595cb25-022b-466a-9639-f0054f1a13ba",
   "metadata": {},
   "outputs": [],
   "source": [
    "# setting the base stat variables\n",
    "# these will be set by the builder eventually, using static starting point now\n",
    "\n",
    "lvl = 1\n",
    "str = 10\n",
    "dex = 10\n",
    "con = 10\n",
    "int = 10\n",
    "wis = 10\n",
    "cha = 10\n",
    "hp = 20\n",
    "ac = 10"
   ]
  },
  {
   "cell_type": "code",
   "execution_count": 23,
   "id": "f54fbbe9-b32a-4875-97a7-69c4aab37eb8",
   "metadata": {},
   "outputs": [
    {
     "data": {
      "text/plain": [
       "'action'"
      ]
     },
     "execution_count": 23,
     "metadata": {},
     "output_type": "execute_result"
    }
   ],
   "source": [
    "available_abilities['action_id'][7]"
   ]
  },
  {
   "cell_type": "code",
   "execution_count": 24,
   "id": "0c127708-f5ac-4b9b-a1f0-07776985828e",
   "metadata": {},
   "outputs": [
    {
     "name": "stdout",
     "output_type": "stream",
     "text": [
      "arg = attack_roll\n",
      "arg = multi_target\n",
      "arg = dice_damage\n",
      "arg = damage_type\n",
      "arg = mt_cantrip_upcast\n",
      "arg = school\n",
      "arg = spell\n",
      "arg = action\n",
      "arg = attack_roll\n",
      "arg = spell\n",
      "arg = action\n",
      "arg = dice_damage\n",
      "arg = damage_type\n",
      "arg = school\n",
      "arg = spell\n",
      "arg = action\n",
      "arg = dice_cantrip_upcast\n"
     ]
    }
   ],
   "source": [
    "# iteration 1 of the for loop\n",
    "for i in range(len(available_abilities)):\n",
    "    proc = available_abilities['action_id'][i]\n",
    "    getattr(globals()['Process'](), proc)(proc)"
   ]
  },
  {
   "cell_type": "code",
   "execution_count": null,
   "id": "c504277e-ef42-4ac5-8d1a-17ad072afc70",
   "metadata": {},
   "outputs": [],
   "source": []
  }
 ],
 "metadata": {
  "kernelspec": {
   "display_name": "Python (dojo-env)",
   "language": "python",
   "name": "dojo-env"
  },
  "language_info": {
   "codemirror_mode": {
    "name": "ipython",
    "version": 3
   },
   "file_extension": ".py",
   "mimetype": "text/x-python",
   "name": "python",
   "nbconvert_exporter": "python",
   "pygments_lexer": "ipython3",
   "version": "3.10.11"
  },
  "widgets": {
   "application/vnd.jupyter.widget-state+json": {
    "state": {},
    "version_major": 2,
    "version_minor": 0
   }
  }
 },
 "nbformat": 4,
 "nbformat_minor": 5
}
